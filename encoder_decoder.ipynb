{
 "cells": [
  {
   "cell_type": "code",
   "execution_count": 1,
   "metadata": {},
   "outputs": [],
   "source": [
    "import numpy as np"
   ]
  },
  {
   "cell_type": "code",
   "execution_count": 2,
   "metadata": {},
   "outputs": [],
   "source": [
    "# split a univariate sequence into samples\n",
    "\n",
    "def split_sequences(sequences, n_steps_in, n_steps_out):\n",
    "    X = list()\n",
    "    Y = list()\n",
    "    \n",
    "    for i in range(len(sequences)):\n",
    "        \n",
    "        # find the end of this pattern\n",
    "        end_ix = i + n_steps_in #(0+3, 1+3, 2+3)\n",
    "        out_end_ix = end_ix + n_steps_out #(3+2, 4+2, 5+2)\n",
    "        \n",
    "        # check if we are beyond the dataset \n",
    "        if out_end_ix > len(sequences):\n",
    "            break\n",
    "            \n",
    "        # gather input and output parts of the pattern\n",
    "        seq_x = sequences[i:end_ix]\n",
    "        seq_y = sequences[end_ix:out_end_ix]\n",
    "        X.append(seq_x)\n",
    "        Y.append(seq_y)\n",
    "    return np.array(X), np.array(Y)"
   ]
  },
  {
   "cell_type": "code",
   "execution_count": 5,
   "metadata": {},
   "outputs": [],
   "source": [
    "# define input sequence \n",
    "sequence = [10, 20, 30, 40, 50, 60, 70, 80]"
   ]
  },
  {
   "cell_type": "code",
   "execution_count": 6,
   "metadata": {},
   "outputs": [],
   "source": [
    "n_steps = 3\n",
    "n_steps_out = 2"
   ]
  },
  {
   "cell_type": "code",
   "execution_count": 7,
   "metadata": {},
   "outputs": [],
   "source": [
    "X, Y = split_sequences(sequence, n_steps, n_steps_out)"
   ]
  },
  {
   "cell_type": "code",
   "execution_count": 8,
   "metadata": {},
   "outputs": [
    {
     "data": {
      "text/plain": [
       "array([[10, 20, 30],\n",
       "       [20, 30, 40],\n",
       "       [30, 40, 50],\n",
       "       [40, 50, 60]])"
      ]
     },
     "execution_count": 8,
     "metadata": {},
     "output_type": "execute_result"
    }
   ],
   "source": [
    "X"
   ]
  },
  {
   "cell_type": "code",
   "execution_count": 9,
   "metadata": {},
   "outputs": [
    {
     "data": {
      "text/plain": [
       "array([[40, 50],\n",
       "       [50, 60],\n",
       "       [60, 70],\n",
       "       [70, 80]])"
      ]
     },
     "execution_count": 9,
     "metadata": {},
     "output_type": "execute_result"
    }
   ],
   "source": [
    "Y"
   ]
  },
  {
   "cell_type": "code",
   "execution_count": 10,
   "metadata": {},
   "outputs": [
    {
     "data": {
      "text/plain": [
       "(4, 3)"
      ]
     },
     "execution_count": 10,
     "metadata": {},
     "output_type": "execute_result"
    }
   ],
   "source": [
    "X.shape"
   ]
  },
  {
   "cell_type": "code",
   "execution_count": 11,
   "metadata": {},
   "outputs": [
    {
     "data": {
      "text/plain": [
       "(4, 2)"
      ]
     },
     "execution_count": 11,
     "metadata": {},
     "output_type": "execute_result"
    }
   ],
   "source": [
    "Y.shape"
   ]
  },
  {
   "cell_type": "markdown",
   "metadata": {},
   "source": [
    "In the case of the Encoder-Decoder model, the output, or y part, of the training dataset must also have this shape.\n",
    "\n",
    "This is because the model will predict a given number of time steps with a given number of features for each input sample."
   ]
  },
  {
   "cell_type": "code",
   "execution_count": 12,
   "metadata": {},
   "outputs": [],
   "source": [
    "n_features = 1"
   ]
  },
  {
   "cell_type": "code",
   "execution_count": 13,
   "metadata": {},
   "outputs": [],
   "source": [
    "X = X.reshape(X.shape[0], X.shape[1], n_features)\n",
    "Y = Y.reshape(Y.shape[0], Y.shape[1], n_features)"
   ]
  },
  {
   "cell_type": "code",
   "execution_count": 14,
   "metadata": {},
   "outputs": [
    {
     "data": {
      "text/plain": [
       "array([[[10],\n",
       "        [20],\n",
       "        [30]],\n",
       "\n",
       "       [[20],\n",
       "        [30],\n",
       "        [40]],\n",
       "\n",
       "       [[30],\n",
       "        [40],\n",
       "        [50]],\n",
       "\n",
       "       [[40],\n",
       "        [50],\n",
       "        [60]]])"
      ]
     },
     "execution_count": 14,
     "metadata": {},
     "output_type": "execute_result"
    }
   ],
   "source": [
    "X"
   ]
  },
  {
   "cell_type": "code",
   "execution_count": 15,
   "metadata": {},
   "outputs": [
    {
     "data": {
      "text/plain": [
       "array([[[40],\n",
       "        [50]],\n",
       "\n",
       "       [[50],\n",
       "        [60]],\n",
       "\n",
       "       [[60],\n",
       "        [70]],\n",
       "\n",
       "       [[70],\n",
       "        [80]]])"
      ]
     },
     "execution_count": 15,
     "metadata": {},
     "output_type": "execute_result"
    }
   ],
   "source": [
    "Y"
   ]
  },
  {
   "cell_type": "code",
   "execution_count": 16,
   "metadata": {},
   "outputs": [
    {
     "data": {
      "text/plain": [
       "(4, 3, 1)"
      ]
     },
     "execution_count": 16,
     "metadata": {},
     "output_type": "execute_result"
    }
   ],
   "source": [
    "X.shape"
   ]
  },
  {
   "cell_type": "code",
   "execution_count": 17,
   "metadata": {},
   "outputs": [
    {
     "data": {
      "text/plain": [
       "(4, 2, 1)"
      ]
     },
     "execution_count": 17,
     "metadata": {},
     "output_type": "execute_result"
    }
   ],
   "source": [
    "Y.shape"
   ]
  },
  {
   "cell_type": "markdown",
   "metadata": {},
   "source": [
    "# Model Building"
   ]
  },
  {
   "cell_type": "code",
   "execution_count": 18,
   "metadata": {},
   "outputs": [
    {
     "name": "stderr",
     "output_type": "stream",
     "text": [
      "Using TensorFlow backend.\n"
     ]
    }
   ],
   "source": [
    "from keras.models import Sequential\n",
    "from keras.layers import Dense\n",
    "from keras.layers import LSTM\n",
    "from keras.layers import RepeatVector\n",
    "from keras.layers import TimeDistributed"
   ]
  },
  {
   "cell_type": "markdown",
   "metadata": {},
   "source": [
    "# Encoder-Decoder Model"
   ]
  },
  {
   "cell_type": "markdown",
   "metadata": {},
   "source": [
    "A model specifically developed for forecasting variable length output sequences is called the Encoder-Decoder LSTM.\n",
    "\n",
    "The model was designed for prediction problems where there are both input and output sequences, so-called sequence-to-sequence, or seq2seq problems, such as translating text from one language to another.\n",
    "\n",
    "As its name suggests, the model is comprised of two sub-models: the encoder and the decoder.\n",
    "\n",
    "The encoder is a model responsible for reading and interpreting the input sequence. The output of the encoder is a fixed length vector that represents the model’s interpretation of the sequence.\n",
    "\n",
    "The encoder is traditionally a Vanilla LSTM model, although other encoder models can be used such as Stacked, Bidirectional, and CNN models."
   ]
  },
  {
   "cell_type": "code",
   "execution_count": 19,
   "metadata": {},
   "outputs": [],
   "source": [
    "# define model\n",
    "model = Sequential()\n",
    "model.add(LSTM(100, activation = 'relu', input_shape = (n_steps, n_features)))"
   ]
  },
  {
   "cell_type": "markdown",
   "metadata": {},
   "source": [
    "The decoder uses the output of the encoder as an input.\n",
    "\n",
    "First, the fixed-length output of the encoder is repeated, once for each required time step in the output sequence."
   ]
  },
  {
   "cell_type": "code",
   "execution_count": 20,
   "metadata": {},
   "outputs": [],
   "source": [
    "model.add(RepeatVector(n_steps_out))"
   ]
  },
  {
   "cell_type": "markdown",
   "metadata": {},
   "source": [
    "This sequence is then provided to an LSTM decoder model.\n",
    "\n",
    "The model must output a value for each value in the output time step, which can be interpreted by a single output model"
   ]
  },
  {
   "cell_type": "code",
   "execution_count": 21,
   "metadata": {},
   "outputs": [],
   "source": [
    "model.add(LSTM(100, activation = 'relu', return_sequences = True))"
   ]
  },
  {
   "cell_type": "markdown",
   "metadata": {},
   "source": [
    "We can use the same output layer or layers to make each one-step prediction in the output sequence.\n",
    "\n",
    "This can be achieved by wrapping the output part of the model in a TimeDistributed wrapper."
   ]
  },
  {
   "cell_type": "code",
   "execution_count": 22,
   "metadata": {},
   "outputs": [],
   "source": [
    "model.add(TimeDistributed(Dense(1)))"
   ]
  },
  {
   "cell_type": "code",
   "execution_count": 23,
   "metadata": {},
   "outputs": [],
   "source": [
    "model.compile(optimizer = 'adam', loss = 'mse')"
   ]
  },
  {
   "cell_type": "code",
   "execution_count": 24,
   "metadata": {},
   "outputs": [
    {
     "name": "stdout",
     "output_type": "stream",
     "text": [
      "WARNING:tensorflow:From C:\\Users\\Dell\\Anaconda3\\lib\\site-packages\\keras\\backend\\tensorflow_backend.py:422: The name tf.global_variables is deprecated. Please use tf.compat.v1.global_variables instead.\n",
      "\n",
      "Epoch 1/100\n",
      "4/4 [==============================] - 4s 1s/step - loss: 3766.8894\n",
      "Epoch 2/100\n",
      "4/4 [==============================] - 0s 8ms/step - loss: 3744.6543\n",
      "Epoch 3/100\n",
      "4/4 [==============================] - 0s 17ms/step - loss: 3724.5874\n",
      "Epoch 4/100\n",
      "4/4 [==============================] - 0s 4ms/step - loss: 3705.3867\n",
      "Epoch 5/100\n",
      "4/4 [==============================] - 0s 15ms/step - loss: 3686.5527\n",
      "Epoch 6/100\n",
      "4/4 [==============================] - 0s 10ms/step - loss: 3667.3135\n",
      "Epoch 7/100\n",
      "4/4 [==============================] - 0s 21ms/step - loss: 3646.4827\n",
      "Epoch 8/100\n",
      "4/4 [==============================] - 0s 14ms/step - loss: 3623.2058\n",
      "Epoch 9/100\n",
      "4/4 [==============================] - 0s 5ms/step - loss: 3596.8623\n",
      "Epoch 10/100\n",
      "4/4 [==============================] - 0s 14ms/step - loss: 3566.2812\n",
      "Epoch 11/100\n",
      "4/4 [==============================] - 0s 12ms/step - loss: 3530.4929\n",
      "Epoch 12/100\n",
      "4/4 [==============================] - 0s 4ms/step - loss: 3487.9365\n",
      "Epoch 13/100\n",
      "4/4 [==============================] - 0s 7ms/step - loss: 3436.9580\n",
      "Epoch 14/100\n",
      "4/4 [==============================] - 0s 23ms/step - loss: 3375.4873\n",
      "Epoch 15/100\n",
      "4/4 [==============================] - 0s 17ms/step - loss: 3300.9580\n",
      "Epoch 16/100\n",
      "4/4 [==============================] - 0s 19ms/step - loss: 3210.1262\n",
      "Epoch 17/100\n",
      "4/4 [==============================] - 0s 26ms/step - loss: 3099.0435\n",
      "Epoch 18/100\n",
      "4/4 [==============================] - 0s 26ms/step - loss: 2962.8872\n",
      "Epoch 19/100\n",
      "4/4 [==============================] - 0s 6ms/step - loss: 2796.1917\n",
      "Epoch 20/100\n",
      "4/4 [==============================] - 0s 12ms/step - loss: 2593.4189\n",
      "Epoch 21/100\n",
      "4/4 [==============================] - 0s 17ms/step - loss: 2350.0488\n",
      "Epoch 22/100\n",
      "4/4 [==============================] - 0s 5ms/step - loss: 2065.2441\n",
      "Epoch 23/100\n",
      "4/4 [==============================] - 0s 11ms/step - loss: 1745.0100\n",
      "Epoch 24/100\n",
      "4/4 [==============================] - 0s 12ms/step - loss: 1404.6348\n",
      "Epoch 25/100\n",
      "4/4 [==============================] - 0s 17ms/step - loss: 1071.4773\n",
      "Epoch 26/100\n",
      "4/4 [==============================] - 0s 500us/step - loss: 790.3555\n",
      "Epoch 27/100\n",
      "4/4 [==============================] - 0s 9ms/step - loss: 625.5875\n",
      "Epoch 28/100\n",
      "4/4 [==============================] - 0s 19ms/step - loss: 635.6691\n",
      "Epoch 29/100\n",
      "4/4 [==============================] - 0s 6ms/step - loss: 790.1813\n",
      "Epoch 30/100\n",
      "4/4 [==============================] - 0s 13ms/step - loss: 923.9351\n",
      "Epoch 31/100\n",
      "4/4 [==============================] - 0s 7ms/step - loss: 934.3224\n",
      "Epoch 32/100\n",
      "4/4 [==============================] - 0s 16ms/step - loss: 845.1364\n",
      "Epoch 33/100\n",
      "4/4 [==============================] - 0s 6ms/step - loss: 717.9856\n",
      "Epoch 34/100\n",
      "4/4 [==============================] - 0s 3ms/step - loss: 602.8664\n",
      "Epoch 35/100\n",
      "4/4 [==============================] - 0s 16ms/step - loss: 524.9514\n",
      "Epoch 36/100\n",
      "4/4 [==============================] - 0s 3ms/step - loss: 487.4885\n",
      "Epoch 37/100\n",
      "4/4 [==============================] - 0s 11ms/step - loss: 480.8330\n",
      "Epoch 38/100\n",
      "4/4 [==============================] - 0s 11ms/step - loss: 491.5526\n",
      "Epoch 39/100\n",
      "4/4 [==============================] - 0s 10ms/step - loss: 507.7466\n",
      "Epoch 40/100\n",
      "4/4 [==============================] - 0s 15ms/step - loss: 520.9394\n",
      "Epoch 41/100\n",
      "4/4 [==============================] - 0s 12ms/step - loss: 526.2156\n",
      "Epoch 42/100\n",
      "4/4 [==============================] - 0s 5ms/step - loss: 521.8571\n",
      "Epoch 43/100\n",
      "4/4 [==============================] - 0s 4ms/step - loss: 507.1607\n",
      "Epoch 44/100\n",
      "4/4 [==============================] - 0s 14ms/step - loss: 484.6021\n",
      "Epoch 45/100\n",
      "4/4 [==============================] - 0s 9ms/step - loss: 456.8145\n",
      "Epoch 46/100\n",
      "4/4 [==============================] - 0s 24ms/step - loss: 427.1300\n",
      "Epoch 47/100\n",
      "4/4 [==============================] - 0s 16ms/step - loss: 398.9846\n",
      "Epoch 48/100\n",
      "4/4 [==============================] - 0s 13ms/step - loss: 374.9870\n",
      "Epoch 49/100\n",
      "4/4 [==============================] - 0s 3ms/step - loss: 356.7073\n",
      "Epoch 50/100\n",
      "4/4 [==============================] - 0s 3ms/step - loss: 344.1324\n",
      "Epoch 51/100\n",
      "4/4 [==============================] - 0s 8ms/step - loss: 335.6849\n",
      "Epoch 52/100\n",
      "4/4 [==============================] - 0s 14ms/step - loss: 328.8129\n",
      "Epoch 53/100\n",
      "4/4 [==============================] - 0s 10ms/step - loss: 320.7036\n",
      "Epoch 54/100\n",
      "4/4 [==============================] - 0s 4ms/step - loss: 309.6996\n",
      "Epoch 55/100\n",
      "4/4 [==============================] - 0s 6ms/step - loss: 295.8077\n",
      "Epoch 56/100\n",
      "4/4 [==============================] - 0s 9ms/step - loss: 279.9342\n",
      "Epoch 57/100\n",
      "4/4 [==============================] - 0s 5ms/step - loss: 263.2654\n",
      "Epoch 58/100\n",
      "4/4 [==============================] - 0s 8ms/step - loss: 247.3674\n",
      "Epoch 59/100\n",
      "4/4 [==============================] - 0s 6ms/step - loss: 232.7193\n",
      "Epoch 60/100\n",
      "4/4 [==============================] - 0s 7ms/step - loss: 219.4225\n",
      "Epoch 61/100\n",
      "4/4 [==============================] - 0s 5ms/step - loss: 206.6021\n",
      "Epoch 62/100\n",
      "4/4 [==============================] - 0s 11ms/step - loss: 193.0499\n",
      "Epoch 63/100\n",
      "4/4 [==============================] - 0s 8ms/step - loss: 177.7703\n",
      "Epoch 64/100\n",
      "4/4 [==============================] - 0s 7ms/step - loss: 160.4365\n",
      "Epoch 65/100\n",
      "4/4 [==============================] - 0s 15ms/step - loss: 141.6663\n",
      "Epoch 66/100\n",
      "4/4 [==============================] - 0s 3ms/step - loss: 123.2116\n",
      "Epoch 67/100\n",
      "4/4 [==============================] - 0s 8ms/step - loss: 107.4183\n",
      "Epoch 68/100\n",
      "4/4 [==============================] - 0s 6ms/step - loss: 95.8758\n",
      "Epoch 69/100\n",
      "4/4 [==============================] - 0s 4ms/step - loss: 86.4652\n",
      "Epoch 70/100\n",
      "4/4 [==============================] - 0s 4ms/step - loss: 74.2388\n",
      "Epoch 71/100\n",
      "4/4 [==============================] - 0s 4ms/step - loss: 59.9006\n",
      "Epoch 72/100\n",
      "4/4 [==============================] - 0s 4ms/step - loss: 48.0236\n",
      "Epoch 73/100\n",
      "4/4 [==============================] - 0s 14ms/step - loss: 40.3175\n",
      "Epoch 74/100\n",
      "4/4 [==============================] - 0s 17ms/step - loss: 34.4784\n",
      "Epoch 75/100\n",
      "4/4 [==============================] - 0s 5ms/step - loss: 28.0235\n",
      "Epoch 76/100\n",
      "4/4 [==============================] - 0s 7ms/step - loss: 21.2470\n",
      "Epoch 77/100\n",
      "4/4 [==============================] - 0s 4ms/step - loss: 17.2122\n",
      "Epoch 78/100\n",
      "4/4 [==============================] - 0s 10ms/step - loss: 17.6381\n",
      "Epoch 79/100\n",
      "4/4 [==============================] - 0s 5ms/step - loss: 19.1820\n",
      "Epoch 80/100\n",
      "4/4 [==============================] - 0s 5ms/step - loss: 19.0440\n",
      "Epoch 81/100\n",
      "4/4 [==============================] - 0s 11ms/step - loss: 19.5448\n",
      "Epoch 82/100\n",
      "4/4 [==============================] - 0s 5ms/step - loss: 21.1381\n",
      "Epoch 83/100\n",
      "4/4 [==============================] - 0s 3ms/step - loss: 21.2431\n",
      "Epoch 84/100\n",
      "4/4 [==============================] - 0s 8ms/step - loss: 18.9584\n",
      "Epoch 85/100\n",
      "4/4 [==============================] - 0s 3ms/step - loss: 16.3068\n",
      "Epoch 86/100\n",
      "4/4 [==============================] - 0s 6ms/step - loss: 15.2958\n",
      "Epoch 87/100\n",
      "4/4 [==============================] - 0s 2ms/step - loss: 13.2995\n",
      "Epoch 88/100\n",
      "4/4 [==============================] - 0s 767us/step - loss: 10.7470\n",
      "Epoch 89/100\n",
      "4/4 [==============================] - 0s 4ms/step - loss: 10.1091\n",
      "Epoch 90/100\n",
      "4/4 [==============================] - 0s 4ms/step - loss: 10.2809\n",
      "Epoch 91/100\n",
      "4/4 [==============================] - 0s 14ms/step - loss: 9.8502\n",
      "Epoch 92/100\n",
      "4/4 [==============================] - 0s 3ms/step - loss: 8.9449\n",
      "Epoch 93/100\n",
      "4/4 [==============================] - 0s 6ms/step - loss: 8.5834\n",
      "Epoch 94/100\n",
      "4/4 [==============================] - 0s 9ms/step - loss: 8.8096\n",
      "Epoch 95/100\n",
      "4/4 [==============================] - 0s 0us/step - loss: 8.4127\n",
      "Epoch 96/100\n",
      "4/4 [==============================] - 0s 4ms/step - loss: 7.5524\n",
      "Epoch 97/100\n",
      "4/4 [==============================] - 0s 249us/step - loss: 7.0150\n",
      "Epoch 98/100\n",
      "4/4 [==============================] - 0s 8ms/step - loss: 6.8185\n",
      "Epoch 99/100\n",
      "4/4 [==============================] - 0s 11ms/step - loss: 6.5801\n"
     ]
    },
    {
     "name": "stdout",
     "output_type": "stream",
     "text": [
      "Epoch 100/100\n",
      "4/4 [==============================] - 0s 6ms/step - loss: 6.2653\n"
     ]
    },
    {
     "data": {
      "text/plain": [
       "<keras.callbacks.callbacks.History at 0x1e776fb5b48>"
      ]
     },
     "execution_count": 24,
     "metadata": {},
     "output_type": "execute_result"
    }
   ],
   "source": [
    "model.fit(X, Y, epochs = 100)"
   ]
  },
  {
   "cell_type": "markdown",
   "metadata": {},
   "source": [
    "# Predictions"
   ]
  },
  {
   "cell_type": "code",
   "execution_count": 25,
   "metadata": {},
   "outputs": [],
   "source": [
    "x_input = np.array([70, 80, 90])"
   ]
  },
  {
   "cell_type": "code",
   "execution_count": 26,
   "metadata": {},
   "outputs": [],
   "source": [
    "x_input = x_input.reshape((1, n_steps, n_features))"
   ]
  },
  {
   "cell_type": "code",
   "execution_count": 27,
   "metadata": {},
   "outputs": [
    {
     "data": {
      "text/plain": [
       "array([[[ 94.42595],\n",
       "        [110.38417]]], dtype=float32)"
      ]
     },
     "execution_count": 27,
     "metadata": {},
     "output_type": "execute_result"
    }
   ],
   "source": [
    "model.predict(x_input)"
   ]
  },
  {
   "cell_type": "code",
   "execution_count": null,
   "metadata": {},
   "outputs": [],
   "source": []
  }
 ],
 "metadata": {
  "kernelspec": {
   "display_name": "Python 3",
   "language": "python",
   "name": "python3"
  },
  "language_info": {
   "codemirror_mode": {
    "name": "ipython",
    "version": 3
   },
   "file_extension": ".py",
   "mimetype": "text/x-python",
   "name": "python",
   "nbconvert_exporter": "python",
   "pygments_lexer": "ipython3",
   "version": "3.7.4"
  }
 },
 "nbformat": 4,
 "nbformat_minor": 2
}
